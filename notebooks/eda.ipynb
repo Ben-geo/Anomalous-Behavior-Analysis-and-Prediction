{
 "cells": [
  {
   "cell_type": "markdown",
   "metadata": {},
   "source": [
    "# Exploratory Data Analysis "
   ]
  },
  {
   "cell_type": "code",
   "execution_count": 1,
   "metadata": {},
   "outputs": [],
   "source": [
    "import polars as pl\n",
    "\n",
    "import plotly.express as px\n",
    "import os\n",
    "import sys\n",
    "import matplotlib.pyplot as plt\n",
    "import seaborn as sns\n",
    "import pyarrow\n",
    "# Path needs to be added manually to read from another folder\n",
    "path2add = os.path.normpath(os.path.abspath(os.path.join(os.path.dirname('__file__'), os.path.pardir, 'utils')))\n",
    "if (not (path2add in sys.path)) :\n",
    "    sys.path.append(path2add)\n",
    "\n",
    "import visualization"
   ]
  },
  {
   "cell_type": "code",
   "execution_count": 2,
   "metadata": {},
   "outputs": [
    {
     "name": "stdout",
     "output_type": "stream",
     "text": [
      "Shape :  (1695, 13)\n"
     ]
    },
    {
     "data": {
      "text/html": [
       "<div><style>\n",
       ".dataframe > thead > tr,\n",
       ".dataframe > tbody > tr {\n",
       "  text-align: right;\n",
       "  white-space: pre-wrap;\n",
       "}\n",
       "</style>\n",
       "<small>shape: (5, 13)</small><table border=\"1\" class=\"dataframe\"><thead><tr><th></th><th>_id</th><th>inter_api_access_duration(sec)</th><th>api_access_uniqueness</th><th>sequence_length(count)</th><th>vsession_duration(min)</th><th>ip_type</th><th>num_sessions</th><th>num_users</th><th>num_unique_apis</th><th>source</th><th>classification</th><th>target</th></tr><tr><td>i64</td><td>str</td><td>f64</td><td>f64</td><td>f64</td><td>i64</td><td>str</td><td>f64</td><td>f64</td><td>f64</td><td>str</td><td>str</td><td>i64</td></tr></thead><tbody><tr><td>0</td><td>&quot;1f2c32d8-2d6e-…</td><td>0.000812</td><td>0.004066</td><td>85.643243</td><td>5405</td><td>&quot;default&quot;</td><td>1460.0</td><td>1295.0</td><td>451.0</td><td>&quot;E&quot;</td><td>&quot;normal&quot;</td><td>0</td></tr><tr><td>1</td><td>&quot;4c486414-d4f5-…</td><td>0.000063</td><td>0.002211</td><td>16.166805</td><td>519</td><td>&quot;default&quot;</td><td>9299.0</td><td>8447.0</td><td>302.0</td><td>&quot;E&quot;</td><td>&quot;normal&quot;</td><td>0</td></tr><tr><td>2</td><td>&quot;7e5838fc-bce1-…</td><td>0.004481</td><td>0.015324</td><td>99.573276</td><td>6211</td><td>&quot;default&quot;</td><td>255.0</td><td>232.0</td><td>354.0</td><td>&quot;E&quot;</td><td>&quot;normal&quot;</td><td>0</td></tr><tr><td>3</td><td>&quot;82661ecd-d87f-…</td><td>0.017837</td><td>0.014974</td><td>69.792793</td><td>8292</td><td>&quot;default&quot;</td><td>195.0</td><td>111.0</td><td>116.0</td><td>&quot;E&quot;</td><td>&quot;normal&quot;</td><td>0</td></tr><tr><td>4</td><td>&quot;d62d56ea-775e-…</td><td>0.000797</td><td>0.006056</td><td>14.952756</td><td>182</td><td>&quot;default&quot;</td><td>272.0</td><td>254.0</td><td>23.0</td><td>&quot;E&quot;</td><td>&quot;normal&quot;</td><td>0</td></tr></tbody></table></div>"
      ],
      "text/plain": [
       "shape: (5, 13)\n",
       "┌─────┬──────────────┬─────────────┬─────────────┬───┬─────────────┬────────┬─────────────┬────────┐\n",
       "│     ┆ _id          ┆ inter_api_a ┆ api_access_ ┆ … ┆ num_unique_ ┆ source ┆ classificat ┆ target │\n",
       "│ --- ┆ ---          ┆ ccess_durat ┆ uniqueness  ┆   ┆ apis        ┆ ---    ┆ ion         ┆ ---    │\n",
       "│ i64 ┆ str          ┆ ion(sec)    ┆ ---         ┆   ┆ ---         ┆ str    ┆ ---         ┆ i64    │\n",
       "│     ┆              ┆ ---         ┆ f64         ┆   ┆ f64         ┆        ┆ str         ┆        │\n",
       "│     ┆              ┆ f64         ┆             ┆   ┆             ┆        ┆             ┆        │\n",
       "╞═════╪══════════════╪═════════════╪═════════════╪═══╪═════════════╪════════╪═════════════╪════════╡\n",
       "│ 0   ┆ 1f2c32d8-2d6 ┆ 0.000812    ┆ 0.004066    ┆ … ┆ 451.0       ┆ E      ┆ normal      ┆ 0      │\n",
       "│     ┆ e-3b68-bc46- ┆             ┆             ┆   ┆             ┆        ┆             ┆        │\n",
       "│     ┆ 789469f2…    ┆             ┆             ┆   ┆             ┆        ┆             ┆        │\n",
       "│ 1   ┆ 4c486414-d4f ┆ 0.000063    ┆ 0.002211    ┆ … ┆ 302.0       ┆ E      ┆ normal      ┆ 0      │\n",
       "│     ┆ 5-33f6-b485- ┆             ┆             ┆   ┆             ┆        ┆             ┆        │\n",
       "│     ┆ 24a8ed29…    ┆             ┆             ┆   ┆             ┆        ┆             ┆        │\n",
       "│ 2   ┆ 7e5838fc-bce ┆ 0.004481    ┆ 0.015324    ┆ … ┆ 354.0       ┆ E      ┆ normal      ┆ 0      │\n",
       "│     ┆ 1-371f-a3ac- ┆             ┆             ┆   ┆             ┆        ┆             ┆        │\n",
       "│     ┆ d8a0b2a0…    ┆             ┆             ┆   ┆             ┆        ┆             ┆        │\n",
       "│ 3   ┆ 82661ecd-d87 ┆ 0.017837    ┆ 0.014974    ┆ … ┆ 116.0       ┆ E      ┆ normal      ┆ 0      │\n",
       "│     ┆ f-3dff-855e- ┆             ┆             ┆   ┆             ┆        ┆             ┆        │\n",
       "│     ┆ 378f7cb6…    ┆             ┆             ┆   ┆             ┆        ┆             ┆        │\n",
       "│ 4   ┆ d62d56ea-775 ┆ 0.000797    ┆ 0.006056    ┆ … ┆ 23.0        ┆ E      ┆ normal      ┆ 0      │\n",
       "│     ┆ e-328c-8b08- ┆             ┆             ┆   ┆             ┆        ┆             ┆        │\n",
       "│     ┆ db7ad7f8…    ┆             ┆             ┆   ┆             ┆        ┆             ┆        │\n",
       "└─────┴──────────────┴─────────────┴─────────────┴───┴─────────────┴────────┴─────────────┴────────┘"
      ]
     },
     "execution_count": 2,
     "metadata": {},
     "output_type": "execute_result"
    }
   ],
   "source": [
    "df = pl.read_csv(\"..\\data\\cleaned_df.csv\")\n",
    "print(\"Shape : \", df.shape)\n",
    "df.head(5)"
   ]
  },
  {
   "cell_type": "code",
   "execution_count": 3,
   "metadata": {},
   "outputs": [
    {
     "data": {
      "application/vnd.plotly.v1+json": {
       "config": {
        "plotlyServerURL": "https://plot.ly"
       },
       "data": [
        {
         "alignmentgroup": "True",
         "hovertemplate": "target=%{x}<br>Count=%{y}<extra></extra>",
         "legendgroup": "",
         "marker": {
          "color": "#636efa",
          "pattern": {
           "shape": ""
          }
         },
         "name": "",
         "offsetgroup": "",
         "orientation": "v",
         "showlegend": false,
         "textposition": "auto",
         "type": "bar",
         "x": [
          0,
          1
         ],
         "xaxis": "x",
         "y": [
          1106,
          589
         ],
         "yaxis": "y"
        }
       ],
       "layout": {
        "barmode": "relative",
        "legend": {
         "tracegroupgap": 0
        },
        "template": {
         "data": {
          "bar": [
           {
            "error_x": {
             "color": "#2a3f5f"
            },
            "error_y": {
             "color": "#2a3f5f"
            },
            "marker": {
             "line": {
              "color": "#E5ECF6",
              "width": 0.5
             },
             "pattern": {
              "fillmode": "overlay",
              "size": 10,
              "solidity": 0.2
             }
            },
            "type": "bar"
           }
          ],
          "barpolar": [
           {
            "marker": {
             "line": {
              "color": "#E5ECF6",
              "width": 0.5
             },
             "pattern": {
              "fillmode": "overlay",
              "size": 10,
              "solidity": 0.2
             }
            },
            "type": "barpolar"
           }
          ],
          "carpet": [
           {
            "aaxis": {
             "endlinecolor": "#2a3f5f",
             "gridcolor": "white",
             "linecolor": "white",
             "minorgridcolor": "white",
             "startlinecolor": "#2a3f5f"
            },
            "baxis": {
             "endlinecolor": "#2a3f5f",
             "gridcolor": "white",
             "linecolor": "white",
             "minorgridcolor": "white",
             "startlinecolor": "#2a3f5f"
            },
            "type": "carpet"
           }
          ],
          "choropleth": [
           {
            "colorbar": {
             "outlinewidth": 0,
             "ticks": ""
            },
            "type": "choropleth"
           }
          ],
          "contour": [
           {
            "colorbar": {
             "outlinewidth": 0,
             "ticks": ""
            },
            "colorscale": [
             [
              0,
              "#0d0887"
             ],
             [
              0.1111111111111111,
              "#46039f"
             ],
             [
              0.2222222222222222,
              "#7201a8"
             ],
             [
              0.3333333333333333,
              "#9c179e"
             ],
             [
              0.4444444444444444,
              "#bd3786"
             ],
             [
              0.5555555555555556,
              "#d8576b"
             ],
             [
              0.6666666666666666,
              "#ed7953"
             ],
             [
              0.7777777777777778,
              "#fb9f3a"
             ],
             [
              0.8888888888888888,
              "#fdca26"
             ],
             [
              1,
              "#f0f921"
             ]
            ],
            "type": "contour"
           }
          ],
          "contourcarpet": [
           {
            "colorbar": {
             "outlinewidth": 0,
             "ticks": ""
            },
            "type": "contourcarpet"
           }
          ],
          "heatmap": [
           {
            "colorbar": {
             "outlinewidth": 0,
             "ticks": ""
            },
            "colorscale": [
             [
              0,
              "#0d0887"
             ],
             [
              0.1111111111111111,
              "#46039f"
             ],
             [
              0.2222222222222222,
              "#7201a8"
             ],
             [
              0.3333333333333333,
              "#9c179e"
             ],
             [
              0.4444444444444444,
              "#bd3786"
             ],
             [
              0.5555555555555556,
              "#d8576b"
             ],
             [
              0.6666666666666666,
              "#ed7953"
             ],
             [
              0.7777777777777778,
              "#fb9f3a"
             ],
             [
              0.8888888888888888,
              "#fdca26"
             ],
             [
              1,
              "#f0f921"
             ]
            ],
            "type": "heatmap"
           }
          ],
          "heatmapgl": [
           {
            "colorbar": {
             "outlinewidth": 0,
             "ticks": ""
            },
            "colorscale": [
             [
              0,
              "#0d0887"
             ],
             [
              0.1111111111111111,
              "#46039f"
             ],
             [
              0.2222222222222222,
              "#7201a8"
             ],
             [
              0.3333333333333333,
              "#9c179e"
             ],
             [
              0.4444444444444444,
              "#bd3786"
             ],
             [
              0.5555555555555556,
              "#d8576b"
             ],
             [
              0.6666666666666666,
              "#ed7953"
             ],
             [
              0.7777777777777778,
              "#fb9f3a"
             ],
             [
              0.8888888888888888,
              "#fdca26"
             ],
             [
              1,
              "#f0f921"
             ]
            ],
            "type": "heatmapgl"
           }
          ],
          "histogram": [
           {
            "marker": {
             "pattern": {
              "fillmode": "overlay",
              "size": 10,
              "solidity": 0.2
             }
            },
            "type": "histogram"
           }
          ],
          "histogram2d": [
           {
            "colorbar": {
             "outlinewidth": 0,
             "ticks": ""
            },
            "colorscale": [
             [
              0,
              "#0d0887"
             ],
             [
              0.1111111111111111,
              "#46039f"
             ],
             [
              0.2222222222222222,
              "#7201a8"
             ],
             [
              0.3333333333333333,
              "#9c179e"
             ],
             [
              0.4444444444444444,
              "#bd3786"
             ],
             [
              0.5555555555555556,
              "#d8576b"
             ],
             [
              0.6666666666666666,
              "#ed7953"
             ],
             [
              0.7777777777777778,
              "#fb9f3a"
             ],
             [
              0.8888888888888888,
              "#fdca26"
             ],
             [
              1,
              "#f0f921"
             ]
            ],
            "type": "histogram2d"
           }
          ],
          "histogram2dcontour": [
           {
            "colorbar": {
             "outlinewidth": 0,
             "ticks": ""
            },
            "colorscale": [
             [
              0,
              "#0d0887"
             ],
             [
              0.1111111111111111,
              "#46039f"
             ],
             [
              0.2222222222222222,
              "#7201a8"
             ],
             [
              0.3333333333333333,
              "#9c179e"
             ],
             [
              0.4444444444444444,
              "#bd3786"
             ],
             [
              0.5555555555555556,
              "#d8576b"
             ],
             [
              0.6666666666666666,
              "#ed7953"
             ],
             [
              0.7777777777777778,
              "#fb9f3a"
             ],
             [
              0.8888888888888888,
              "#fdca26"
             ],
             [
              1,
              "#f0f921"
             ]
            ],
            "type": "histogram2dcontour"
           }
          ],
          "mesh3d": [
           {
            "colorbar": {
             "outlinewidth": 0,
             "ticks": ""
            },
            "type": "mesh3d"
           }
          ],
          "parcoords": [
           {
            "line": {
             "colorbar": {
              "outlinewidth": 0,
              "ticks": ""
             }
            },
            "type": "parcoords"
           }
          ],
          "pie": [
           {
            "automargin": true,
            "type": "pie"
           }
          ],
          "scatter": [
           {
            "fillpattern": {
             "fillmode": "overlay",
             "size": 10,
             "solidity": 0.2
            },
            "type": "scatter"
           }
          ],
          "scatter3d": [
           {
            "line": {
             "colorbar": {
              "outlinewidth": 0,
              "ticks": ""
             }
            },
            "marker": {
             "colorbar": {
              "outlinewidth": 0,
              "ticks": ""
             }
            },
            "type": "scatter3d"
           }
          ],
          "scattercarpet": [
           {
            "marker": {
             "colorbar": {
              "outlinewidth": 0,
              "ticks": ""
             }
            },
            "type": "scattercarpet"
           }
          ],
          "scattergeo": [
           {
            "marker": {
             "colorbar": {
              "outlinewidth": 0,
              "ticks": ""
             }
            },
            "type": "scattergeo"
           }
          ],
          "scattergl": [
           {
            "marker": {
             "colorbar": {
              "outlinewidth": 0,
              "ticks": ""
             }
            },
            "type": "scattergl"
           }
          ],
          "scattermapbox": [
           {
            "marker": {
             "colorbar": {
              "outlinewidth": 0,
              "ticks": ""
             }
            },
            "type": "scattermapbox"
           }
          ],
          "scatterpolar": [
           {
            "marker": {
             "colorbar": {
              "outlinewidth": 0,
              "ticks": ""
             }
            },
            "type": "scatterpolar"
           }
          ],
          "scatterpolargl": [
           {
            "marker": {
             "colorbar": {
              "outlinewidth": 0,
              "ticks": ""
             }
            },
            "type": "scatterpolargl"
           }
          ],
          "scatterternary": [
           {
            "marker": {
             "colorbar": {
              "outlinewidth": 0,
              "ticks": ""
             }
            },
            "type": "scatterternary"
           }
          ],
          "surface": [
           {
            "colorbar": {
             "outlinewidth": 0,
             "ticks": ""
            },
            "colorscale": [
             [
              0,
              "#0d0887"
             ],
             [
              0.1111111111111111,
              "#46039f"
             ],
             [
              0.2222222222222222,
              "#7201a8"
             ],
             [
              0.3333333333333333,
              "#9c179e"
             ],
             [
              0.4444444444444444,
              "#bd3786"
             ],
             [
              0.5555555555555556,
              "#d8576b"
             ],
             [
              0.6666666666666666,
              "#ed7953"
             ],
             [
              0.7777777777777778,
              "#fb9f3a"
             ],
             [
              0.8888888888888888,
              "#fdca26"
             ],
             [
              1,
              "#f0f921"
             ]
            ],
            "type": "surface"
           }
          ],
          "table": [
           {
            "cells": {
             "fill": {
              "color": "#EBF0F8"
             },
             "line": {
              "color": "white"
             }
            },
            "header": {
             "fill": {
              "color": "#C8D4E3"
             },
             "line": {
              "color": "white"
             }
            },
            "type": "table"
           }
          ]
         },
         "layout": {
          "annotationdefaults": {
           "arrowcolor": "#2a3f5f",
           "arrowhead": 0,
           "arrowwidth": 1
          },
          "autotypenumbers": "strict",
          "coloraxis": {
           "colorbar": {
            "outlinewidth": 0,
            "ticks": ""
           }
          },
          "colorscale": {
           "diverging": [
            [
             0,
             "#8e0152"
            ],
            [
             0.1,
             "#c51b7d"
            ],
            [
             0.2,
             "#de77ae"
            ],
            [
             0.3,
             "#f1b6da"
            ],
            [
             0.4,
             "#fde0ef"
            ],
            [
             0.5,
             "#f7f7f7"
            ],
            [
             0.6,
             "#e6f5d0"
            ],
            [
             0.7,
             "#b8e186"
            ],
            [
             0.8,
             "#7fbc41"
            ],
            [
             0.9,
             "#4d9221"
            ],
            [
             1,
             "#276419"
            ]
           ],
           "sequential": [
            [
             0,
             "#0d0887"
            ],
            [
             0.1111111111111111,
             "#46039f"
            ],
            [
             0.2222222222222222,
             "#7201a8"
            ],
            [
             0.3333333333333333,
             "#9c179e"
            ],
            [
             0.4444444444444444,
             "#bd3786"
            ],
            [
             0.5555555555555556,
             "#d8576b"
            ],
            [
             0.6666666666666666,
             "#ed7953"
            ],
            [
             0.7777777777777778,
             "#fb9f3a"
            ],
            [
             0.8888888888888888,
             "#fdca26"
            ],
            [
             1,
             "#f0f921"
            ]
           ],
           "sequentialminus": [
            [
             0,
             "#0d0887"
            ],
            [
             0.1111111111111111,
             "#46039f"
            ],
            [
             0.2222222222222222,
             "#7201a8"
            ],
            [
             0.3333333333333333,
             "#9c179e"
            ],
            [
             0.4444444444444444,
             "#bd3786"
            ],
            [
             0.5555555555555556,
             "#d8576b"
            ],
            [
             0.6666666666666666,
             "#ed7953"
            ],
            [
             0.7777777777777778,
             "#fb9f3a"
            ],
            [
             0.8888888888888888,
             "#fdca26"
            ],
            [
             1,
             "#f0f921"
            ]
           ]
          },
          "colorway": [
           "#636efa",
           "#EF553B",
           "#00cc96",
           "#ab63fa",
           "#FFA15A",
           "#19d3f3",
           "#FF6692",
           "#B6E880",
           "#FF97FF",
           "#FECB52"
          ],
          "font": {
           "color": "#2a3f5f"
          },
          "geo": {
           "bgcolor": "white",
           "lakecolor": "white",
           "landcolor": "#E5ECF6",
           "showlakes": true,
           "showland": true,
           "subunitcolor": "white"
          },
          "hoverlabel": {
           "align": "left"
          },
          "hovermode": "closest",
          "mapbox": {
           "style": "light"
          },
          "paper_bgcolor": "white",
          "plot_bgcolor": "#E5ECF6",
          "polar": {
           "angularaxis": {
            "gridcolor": "white",
            "linecolor": "white",
            "ticks": ""
           },
           "bgcolor": "#E5ECF6",
           "radialaxis": {
            "gridcolor": "white",
            "linecolor": "white",
            "ticks": ""
           }
          },
          "scene": {
           "xaxis": {
            "backgroundcolor": "#E5ECF6",
            "gridcolor": "white",
            "gridwidth": 2,
            "linecolor": "white",
            "showbackground": true,
            "ticks": "",
            "zerolinecolor": "white"
           },
           "yaxis": {
            "backgroundcolor": "#E5ECF6",
            "gridcolor": "white",
            "gridwidth": 2,
            "linecolor": "white",
            "showbackground": true,
            "ticks": "",
            "zerolinecolor": "white"
           },
           "zaxis": {
            "backgroundcolor": "#E5ECF6",
            "gridcolor": "white",
            "gridwidth": 2,
            "linecolor": "white",
            "showbackground": true,
            "ticks": "",
            "zerolinecolor": "white"
           }
          },
          "shapedefaults": {
           "line": {
            "color": "#2a3f5f"
           }
          },
          "ternary": {
           "aaxis": {
            "gridcolor": "white",
            "linecolor": "white",
            "ticks": ""
           },
           "baxis": {
            "gridcolor": "white",
            "linecolor": "white",
            "ticks": ""
           },
           "bgcolor": "#E5ECF6",
           "caxis": {
            "gridcolor": "white",
            "linecolor": "white",
            "ticks": ""
           }
          },
          "title": {
           "x": 0.05
          },
          "xaxis": {
           "automargin": true,
           "gridcolor": "white",
           "linecolor": "white",
           "ticks": "",
           "title": {
            "standoff": 15
           },
           "zerolinecolor": "white",
           "zerolinewidth": 2
          },
          "yaxis": {
           "automargin": true,
           "gridcolor": "white",
           "linecolor": "white",
           "ticks": "",
           "title": {
            "standoff": 15
           },
           "zerolinecolor": "white",
           "zerolinewidth": 2
          }
         }
        },
        "title": {
         "text": "Counts of Target Classes"
        },
        "xaxis": {
         "anchor": "y",
         "domain": [
          0,
          1
         ],
         "title": {
          "text": "target"
         }
        },
        "yaxis": {
         "anchor": "x",
         "domain": [
          0,
          1
         ],
         "title": {
          "text": "Count"
         }
        }
       }
      }
     },
     "metadata": {},
     "output_type": "display_data"
    }
   ],
   "source": [
    "visualization.bar_plot(df,\"target\",\"Counts of Target Classes\")"
   ]
  },
  {
   "cell_type": "code",
   "execution_count": 4,
   "metadata": {},
   "outputs": [
    {
     "data": {
      "image/png": "[encoded data removed]",
      "text/plain": [
       "<Figure size 640x480 with 1 Axes>"
      ]
     },
     "metadata": {},
     "output_type": "display_data"
    },
    {
     "data": {
      "image/png": "[encoded data removed]",
      "text/plain": [
       "<Figure size 640x480 with 1 Axes>"
      ]
     },
     "metadata": {},
     "output_type": "display_data"
    }
   ],
   "source": [
    "categorical_cols=[\"ip_type\",\"source\"]\n",
    "for col in categorical_cols:\n",
    "    visualization.plt_proportion_plot(\n",
    "        df,\n",
    "        col,\n",
    "        \"classification\"\n",
    "    )\n"
   ]
  },
  {
   "cell_type": "markdown",
   "metadata": {},
   "source": [
    "**Observation**\n",
    "* Every API call from datacenter is an outlier\n",
    "* source is more fairly distributed\n",
    "\n",
    "**Impact** \n",
    "\n",
    "* Every API call from ip_type : datacenter can be dropped.\n"
   ]
  },
  {
   "cell_type": "code",
   "execution_count": 14,
   "metadata": {},
   "outputs": [
    {
     "data": {
      "text/html": [
       "<div>\n",
       "<style scoped>\n",
       "    .dataframe tbody tr th:only-of-type {\n",
       "        vertical-align: middle;\n",
       "    }\n",
       "\n",
       "    .dataframe tbody tr th {\n",
       "        vertical-align: top;\n",
       "    }\n",
       "\n",
       "    .dataframe thead th {\n",
       "        text-align: right;\n",
       "    }\n",
       "</style>\n",
       "<table border=\"1\" class=\"dataframe\">\n",
       "  <thead>\n",
       "    <tr style=\"text-align: right;\">\n",
       "      <th></th>\n",
       "      <th>inter_api_access_duration(sec)</th>\n",
       "      <th>api_access_uniqueness</th>\n",
       "      <th>sequence_length(count)</th>\n",
       "      <th>vsession_duration(min)</th>\n",
       "      <th>num_sessions</th>\n",
       "      <th>num_users</th>\n",
       "      <th>num_unique_apis</th>\n",
       "      <th>target</th>\n",
       "    </tr>\n",
       "  </thead>\n",
       "  <tbody>\n",
       "    <tr>\n",
       "      <th>inter_api_access_duration(sec)</th>\n",
       "      <td>1.000000</td>\n",
       "      <td>0.072424</td>\n",
       "      <td>-0.003418</td>\n",
       "      <td>0.149669</td>\n",
       "      <td>-0.033008</td>\n",
       "      <td>-0.029199</td>\n",
       "      <td>-0.047715</td>\n",
       "      <td>0.094405</td>\n",
       "    </tr>\n",
       "    <tr>\n",
       "      <th>api_access_uniqueness</th>\n",
       "      <td>0.072424</td>\n",
       "      <td>1.000000</td>\n",
       "      <td>-0.080800</td>\n",
       "      <td>-0.006048</td>\n",
       "      <td>-0.275642</td>\n",
       "      <td>-0.247108</td>\n",
       "      <td>-0.392042</td>\n",
       "      <td>0.767884</td>\n",
       "    </tr>\n",
       "    <tr>\n",
       "      <th>sequence_length(count)</th>\n",
       "      <td>-0.003418</td>\n",
       "      <td>-0.080800</td>\n",
       "      <td>1.000000</td>\n",
       "      <td>0.142744</td>\n",
       "      <td>-0.084133</td>\n",
       "      <td>-0.080589</td>\n",
       "      <td>0.018244</td>\n",
       "      <td>0.249645</td>\n",
       "    </tr>\n",
       "    <tr>\n",
       "      <th>vsession_duration(min)</th>\n",
       "      <td>0.149669</td>\n",
       "      <td>-0.006048</td>\n",
       "      <td>0.142744</td>\n",
       "      <td>1.000000</td>\n",
       "      <td>-0.043159</td>\n",
       "      <td>-0.035166</td>\n",
       "      <td>-0.013865</td>\n",
       "      <td>0.114413</td>\n",
       "    </tr>\n",
       "    <tr>\n",
       "      <th>num_sessions</th>\n",
       "      <td>-0.033008</td>\n",
       "      <td>-0.275642</td>\n",
       "      <td>-0.084133</td>\n",
       "      <td>-0.043159</td>\n",
       "      <td>1.000000</td>\n",
       "      <td>0.929199</td>\n",
       "      <td>0.525890</td>\n",
       "      <td>-0.343982</td>\n",
       "    </tr>\n",
       "    <tr>\n",
       "      <th>num_users</th>\n",
       "      <td>-0.029199</td>\n",
       "      <td>-0.247108</td>\n",
       "      <td>-0.080589</td>\n",
       "      <td>-0.035166</td>\n",
       "      <td>0.929199</td>\n",
       "      <td>1.000000</td>\n",
       "      <td>0.541066</td>\n",
       "      <td>-0.308356</td>\n",
       "    </tr>\n",
       "    <tr>\n",
       "      <th>num_unique_apis</th>\n",
       "      <td>-0.047715</td>\n",
       "      <td>-0.392042</td>\n",
       "      <td>0.018244</td>\n",
       "      <td>-0.013865</td>\n",
       "      <td>0.525890</td>\n",
       "      <td>0.541066</td>\n",
       "      <td>1.000000</td>\n",
       "      <td>-0.450704</td>\n",
       "    </tr>\n",
       "    <tr>\n",
       "      <th>target</th>\n",
       "      <td>0.094405</td>\n",
       "      <td>0.767884</td>\n",
       "      <td>0.249645</td>\n",
       "      <td>0.114413</td>\n",
       "      <td>-0.343982</td>\n",
       "      <td>-0.308356</td>\n",
       "      <td>-0.450704</td>\n",
       "      <td>1.000000</td>\n",
       "    </tr>\n",
       "  </tbody>\n",
       "</table>\n",
       "</div>"
      ],
      "text/plain": [
       "                                inter_api_access_duration(sec)  \\\n",
       "inter_api_access_duration(sec)                        1.000000   \n",
       "api_access_uniqueness                                 0.072424   \n",
       "sequence_length(count)                               -0.003418   \n",
       "vsession_duration(min)                                0.149669   \n",
       "num_sessions                                         -0.033008   \n",
       "num_users                                            -0.029199   \n",
       "num_unique_apis                                      -0.047715   \n",
       "target                                                0.094405   \n",
       "\n",
       "                                api_access_uniqueness  sequence_length(count)  \\\n",
       "inter_api_access_duration(sec)               0.072424               -0.003418   \n",
       "api_access_uniqueness                        1.000000               -0.080800   \n",
       "sequence_length(count)                      -0.080800                1.000000   \n",
       "vsession_duration(min)                      -0.006048                0.142744   \n",
       "num_sessions                                -0.275642               -0.084133   \n",
       "num_users                                   -0.247108               -0.080589   \n",
       "num_unique_apis                             -0.392042                0.018244   \n",
       "target                                       0.767884                0.249645   \n",
       "\n",
       "                                vsession_duration(min)  num_sessions  \\\n",
       "inter_api_access_duration(sec)                0.149669     -0.033008   \n",
       "api_access_uniqueness                        -0.006048     -0.275642   \n",
       "sequence_length(count)                        0.142744     -0.084133   \n",
       "vsession_duration(min)                        1.000000     -0.043159   \n",
       "num_sessions                                 -0.043159      1.000000   \n",
       "num_users                                    -0.035166      0.929199   \n",
       "num_unique_apis                              -0.013865      0.525890   \n",
       "target                                        0.114413     -0.343982   \n",
       "\n",
       "                                num_users  num_unique_apis    target  \n",
       "inter_api_access_duration(sec)  -0.029199        -0.047715  0.094405  \n",
       "api_access_uniqueness           -0.247108        -0.392042  0.767884  \n",
       "sequence_length(count)          -0.080589         0.018244  0.249645  \n",
       "vsession_duration(min)          -0.035166        -0.013865  0.114413  \n",
       "num_sessions                     0.929199         0.525890 -0.343982  \n",
       "num_users                        1.000000         0.541066 -0.308356  \n",
       "num_unique_apis                  0.541066         1.000000 -0.450704  \n",
       "target                          -0.308356        -0.450704  1.000000  "
      ]
     },
     "execution_count": 14,
     "metadata": {},
     "output_type": "execute_result"
    },
    {
     "data": {
      "image/png": "[encoded data removed]",
      "text/plain": [
       "<Figure size 640x480 with 2 Axes>"
      ]
     },
     "metadata": {},
     "output_type": "display_data"
    }
   ],
   "source": [
    "numerical_cols = [\n",
    "    \"inter_api_access_duration(sec)\",\n",
    "    \"api_access_uniqueness\",\n",
    "    \"sequence_length(count)\",\n",
    "    \"vsession_duration(min)\",\n",
    "    \"num_sessions\",\n",
    "    \"num_users\",\n",
    "    \"num_unique_apis\",\n",
    "    ]\n",
    "sns.heatmap(df[numerical_cols+[\"target\"]].to_pandas().corr())\n",
    "df[numerical_cols+[\"target\"]].to_pandas().corr()"
   ]
  },
  {
   "cell_type": "markdown",
   "metadata": {},
   "source": [
    "**Observation**\n",
    "* High correlatin between :\n",
    "    * target and api_access_uniqueness\n",
    "    * num_users and num_sessions\n",
    "* Medium correlatin between :\n",
    "    *  num_users - num_unique_apis\n",
    "    *  num_sessions - num_unique_apis\n",
    "\n",
    "**Impact** \n",
    "\n",
    "* make sure to test them during feature engineering"
   ]
  },
  {
   "cell_type": "code",
   "execution_count": 13,
   "metadata": {},
   "outputs": [
    {
     "data": {
      "text/html": [
       "<div>\n",
       "<style scoped>\n",
       "    .dataframe tbody tr th:only-of-type {\n",
       "        vertical-align: middle;\n",
       "    }\n",
       "\n",
       "    .dataframe tbody tr th {\n",
       "        vertical-align: top;\n",
       "    }\n",
       "\n",
       "    .dataframe thead th {\n",
       "        text-align: right;\n",
       "    }\n",
       "</style>\n",
       "<table border=\"1\" class=\"dataframe\">\n",
       "  <thead>\n",
       "    <tr style=\"text-align: right;\">\n",
       "      <th></th>\n",
       "      <th>inter_api_access_duration(sec)</th>\n",
       "      <th>api_access_uniqueness</th>\n",
       "      <th>sequence_length(count)</th>\n",
       "      <th>vsession_duration(min)</th>\n",
       "      <th>num_sessions</th>\n",
       "      <th>num_users</th>\n",
       "      <th>num_unique_apis</th>\n",
       "      <th>target</th>\n",
       "    </tr>\n",
       "  </thead>\n",
       "  <tbody>\n",
       "    <tr>\n",
       "      <th>inter_api_access_duration(sec)</th>\n",
       "      <td>1.000000</td>\n",
       "      <td>0.072424</td>\n",
       "      <td>-0.003418</td>\n",
       "      <td>0.149669</td>\n",
       "      <td>-0.033008</td>\n",
       "      <td>-0.029199</td>\n",
       "      <td>-0.047715</td>\n",
       "      <td>0.094405</td>\n",
       "    </tr>\n",
       "    <tr>\n",
       "      <th>api_access_uniqueness</th>\n",
       "      <td>0.072424</td>\n",
       "      <td>1.000000</td>\n",
       "      <td>-0.080800</td>\n",
       "      <td>-0.006048</td>\n",
       "      <td>-0.275642</td>\n",
       "      <td>-0.247108</td>\n",
       "      <td>-0.392042</td>\n",
       "      <td>0.767884</td>\n",
       "    </tr>\n",
       "    <tr>\n",
       "      <th>sequence_length(count)</th>\n",
       "      <td>-0.003418</td>\n",
       "      <td>-0.080800</td>\n",
       "      <td>1.000000</td>\n",
       "      <td>0.142744</td>\n",
       "      <td>-0.084133</td>\n",
       "      <td>-0.080589</td>\n",
       "      <td>0.018244</td>\n",
       "      <td>0.249645</td>\n",
       "    </tr>\n",
       "    <tr>\n",
       "      <th>vsession_duration(min)</th>\n",
       "      <td>0.149669</td>\n",
       "      <td>-0.006048</td>\n",
       "      <td>0.142744</td>\n",
       "      <td>1.000000</td>\n",
       "      <td>-0.043159</td>\n",
       "      <td>-0.035166</td>\n",
       "      <td>-0.013865</td>\n",
       "      <td>0.114413</td>\n",
       "    </tr>\n",
       "    <tr>\n",
       "      <th>num_sessions</th>\n",
       "      <td>-0.033008</td>\n",
       "      <td>-0.275642</td>\n",
       "      <td>-0.084133</td>\n",
       "      <td>-0.043159</td>\n",
       "      <td>1.000000</td>\n",
       "      <td>0.929199</td>\n",
       "      <td>0.525890</td>\n",
       "      <td>-0.343982</td>\n",
       "    </tr>\n",
       "    <tr>\n",
       "      <th>num_users</th>\n",
       "      <td>-0.029199</td>\n",
       "      <td>-0.247108</td>\n",
       "      <td>-0.080589</td>\n",
       "      <td>-0.035166</td>\n",
       "      <td>0.929199</td>\n",
       "      <td>1.000000</td>\n",
       "      <td>0.541066</td>\n",
       "      <td>-0.308356</td>\n",
       "    </tr>\n",
       "    <tr>\n",
       "      <th>num_unique_apis</th>\n",
       "      <td>-0.047715</td>\n",
       "      <td>-0.392042</td>\n",
       "      <td>0.018244</td>\n",
       "      <td>-0.013865</td>\n",
       "      <td>0.525890</td>\n",
       "      <td>0.541066</td>\n",
       "      <td>1.000000</td>\n",
       "      <td>-0.450704</td>\n",
       "    </tr>\n",
       "    <tr>\n",
       "      <th>target</th>\n",
       "      <td>0.094405</td>\n",
       "      <td>0.767884</td>\n",
       "      <td>0.249645</td>\n",
       "      <td>0.114413</td>\n",
       "      <td>-0.343982</td>\n",
       "      <td>-0.308356</td>\n",
       "      <td>-0.450704</td>\n",
       "      <td>1.000000</td>\n",
       "    </tr>\n",
       "  </tbody>\n",
       "</table>\n",
       "</div>"
      ],
      "text/plain": [
       "                                inter_api_access_duration(sec)  \\\n",
       "inter_api_access_duration(sec)                        1.000000   \n",
       "api_access_uniqueness                                 0.072424   \n",
       "sequence_length(count)                               -0.003418   \n",
       "vsession_duration(min)                                0.149669   \n",
       "num_sessions                                         -0.033008   \n",
       "num_users                                            -0.029199   \n",
       "num_unique_apis                                      -0.047715   \n",
       "target                                                0.094405   \n",
       "\n",
       "                                api_access_uniqueness  sequence_length(count)  \\\n",
       "inter_api_access_duration(sec)               0.072424               -0.003418   \n",
       "api_access_uniqueness                        1.000000               -0.080800   \n",
       "sequence_length(count)                      -0.080800                1.000000   \n",
       "vsession_duration(min)                      -0.006048                0.142744   \n",
       "num_sessions                                -0.275642               -0.084133   \n",
       "num_users                                   -0.247108               -0.080589   \n",
       "num_unique_apis                             -0.392042                0.018244   \n",
       "target                                       0.767884                0.249645   \n",
       "\n",
       "                                vsession_duration(min)  num_sessions  \\\n",
       "inter_api_access_duration(sec)                0.149669     -0.033008   \n",
       "api_access_uniqueness                        -0.006048     -0.275642   \n",
       "sequence_length(count)                        0.142744     -0.084133   \n",
       "vsession_duration(min)                        1.000000     -0.043159   \n",
       "num_sessions                                 -0.043159      1.000000   \n",
       "num_users                                    -0.035166      0.929199   \n",
       "num_unique_apis                              -0.013865      0.525890   \n",
       "target                                        0.114413     -0.343982   \n",
       "\n",
       "                                num_users  num_unique_apis    target  \n",
       "inter_api_access_duration(sec)  -0.029199        -0.047715  0.094405  \n",
       "api_access_uniqueness           -0.247108        -0.392042  0.767884  \n",
       "sequence_length(count)          -0.080589         0.018244  0.249645  \n",
       "vsession_duration(min)          -0.035166        -0.013865  0.114413  \n",
       "num_sessions                     0.929199         0.525890 -0.343982  \n",
       "num_users                        1.000000         0.541066 -0.308356  \n",
       "num_unique_apis                  0.541066         1.000000 -0.450704  \n",
       "target                          -0.308356        -0.450704  1.000000  "
      ]
     },
     "execution_count": 13,
     "metadata": {},
     "output_type": "execute_result"
    }
   ],
   "source": [
    "df[numerical_cols+[\"target\"]].to_pandas().corr()"
   ]
  },
  {
   "cell_type": "markdown",
   "metadata": {},
   "source": []
  },
  {
   "cell_type": "markdown",
   "metadata": {},
   "source": []
  },
  {
   "cell_type": "code",
   "execution_count": null,
   "metadata": {},
   "outputs": [],
   "source": []
  }
 ],
 "metadata": {
  "kernelspec": {
   "display_name": "base",
   "language": "python",
   "name": "python3"
  },
  "language_info": {
   "codemirror_mode": {
    "name": "ipython",
    "version": 3
   },
   "file_extension": ".py",
   "mimetype": "text/x-python",
   "name": "python",
   "nbconvert_exporter": "python",
   "pygments_lexer": "ipython3",
   "version": "3.10.9"
  }
 },
 "nbformat": 4,
 "nbformat_minor": 2
}
