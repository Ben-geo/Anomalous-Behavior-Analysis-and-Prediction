{
 "cells": [
  {
   "cell_type": "code",
   "execution_count": 12,
   "metadata": {},
   "outputs": [],
   "source": [
    "import polars as pl"
   ]
  },
  {
   "cell_type": "code",
   "execution_count": 11,
   "metadata": {},
   "outputs": [
    {
     "data": {
      "text/html": [
       "<div><style>\n",
       ".dataframe > thead > tr,\n",
       ".dataframe > tbody > tr {\n",
       "  text-align: right;\n",
       "  white-space: pre-wrap;\n",
       "}\n",
       "</style>\n",
       "<small>shape: (5, 13)</small><table border=\"1\" class=\"dataframe\"><thead><tr><th></th><th>_id</th><th>inter_api_access_duration(sec)</th><th>api_access_uniqueness</th><th>sequence_length(count)</th><th>vsession_duration(min)</th><th>ip_type</th><th>behavior</th><th>behavior_type</th><th>num_sessions</th><th>num_users</th><th>num_unique_apis</th><th>source</th></tr><tr><td>i64</td><td>str</td><td>f64</td><td>f64</td><td>f64</td><td>i64</td><td>str</td><td>str</td><td>str</td><td>f64</td><td>f64</td><td>f64</td><td>str</td></tr></thead><tbody><tr><td>0</td><td>&quot;024aae60-1a81-…</td><td>7.010387</td><td>0.419355</td><td>31.0</td><td>13040</td><td>&quot;default&quot;</td><td>&quot;outlier&quot;</td><td>&quot;outlier&quot;</td><td>1.0</td><td>1.0</td><td>13.0</td><td>&quot;E&quot;</td></tr><tr><td>1</td><td>&quot;028d67dd-c6d0-…</td><td>51.419393</td><td>0.252336</td><td>107.0</td><td>330113</td><td>&quot;default&quot;</td><td>&quot;outlier&quot;</td><td>&quot;outlier&quot;</td><td>1.0</td><td>1.0</td><td>27.0</td><td>&quot;E&quot;</td></tr><tr><td>2</td><td>&quot;02d12bf9-5fe2-…</td><td>25.860775</td><td>0.275</td><td>40.0</td><td>62066</td><td>&quot;default&quot;</td><td>&quot;outlier&quot;</td><td>&quot;outlier&quot;</td><td>1.0</td><td>1.0</td><td>11.0</td><td>&quot;E&quot;</td></tr><tr><td>3</td><td>&quot;0b3aee1e-dc3b-…</td><td>0.205909</td><td>0.818182</td><td>11.0</td><td>136</td><td>&quot;default&quot;</td><td>&quot;outlier&quot;</td><td>&quot;outlier&quot;</td><td>1.0</td><td>1.0</td><td>9.0</td><td>&quot;E&quot;</td></tr><tr><td>4</td><td>&quot;0dbfffb4-3ed4-…</td><td>0.122125</td><td>0.8125</td><td>16.0</td><td>118</td><td>&quot;default&quot;</td><td>&quot;outlier&quot;</td><td>&quot;outlier&quot;</td><td>1.0</td><td>1.0</td><td>13.0</td><td>&quot;E&quot;</td></tr></tbody></table></div>"
      ],
      "text/plain": [
       "shape: (5, 13)\n",
       "┌─────┬─────────────┬─────────────┬─────────────┬───┬────────────┬───────────┬────────────┬────────┐\n",
       "│     ┆ _id         ┆ inter_api_a ┆ api_access_ ┆ … ┆ num_sessio ┆ num_users ┆ num_unique ┆ source │\n",
       "│ --- ┆ ---         ┆ ccess_durat ┆ uniqueness  ┆   ┆ ns         ┆ ---       ┆ _apis      ┆ ---    │\n",
       "│ i64 ┆ str         ┆ ion(sec)    ┆ ---         ┆   ┆ ---        ┆ f64       ┆ ---        ┆ str    │\n",
       "│     ┆             ┆ ---         ┆ f64         ┆   ┆ f64        ┆           ┆ f64        ┆        │\n",
       "│     ┆             ┆ f64         ┆             ┆   ┆            ┆           ┆            ┆        │\n",
       "╞═════╪═════════════╪═════════════╪═════════════╪═══╪════════════╪═══════════╪════════════╪════════╡\n",
       "│ 0   ┆ 024aae60-1a ┆ 7.010387    ┆ 0.419355    ┆ … ┆ 1.0        ┆ 1.0       ┆ 13.0       ┆ E      │\n",
       "│     ┆ 81-3f37-bbe ┆             ┆             ┆   ┆            ┆           ┆            ┆        │\n",
       "│     ┆ 6-3f832c91… ┆             ┆             ┆   ┆            ┆           ┆            ┆        │\n",
       "│ 1   ┆ 028d67dd-c6 ┆ 51.419393   ┆ 0.252336    ┆ … ┆ 1.0        ┆ 1.0       ┆ 27.0       ┆ E      │\n",
       "│     ┆ d0-329f-a20 ┆             ┆             ┆   ┆            ┆           ┆            ┆        │\n",
       "│     ┆ e-78db9eab… ┆             ┆             ┆   ┆            ┆           ┆            ┆        │\n",
       "│ 2   ┆ 02d12bf9-5f ┆ 25.860775   ┆ 0.275       ┆ … ┆ 1.0        ┆ 1.0       ┆ 11.0       ┆ E      │\n",
       "│     ┆ e2-3d0c-b23 ┆             ┆             ┆   ┆            ┆           ┆            ┆        │\n",
       "│     ┆ 3-30e02224… ┆             ┆             ┆   ┆            ┆           ┆            ┆        │\n",
       "│ 3   ┆ 0b3aee1e-dc ┆ 0.205909    ┆ 0.818182    ┆ … ┆ 1.0        ┆ 1.0       ┆ 9.0        ┆ E      │\n",
       "│     ┆ 3b-3728-bc5 ┆             ┆             ┆   ┆            ┆           ┆            ┆        │\n",
       "│     ┆ 5-f57a2344… ┆             ┆             ┆   ┆            ┆           ┆            ┆        │\n",
       "│ 4   ┆ 0dbfffb4-3e ┆ 0.122125    ┆ 0.8125      ┆ … ┆ 1.0        ┆ 1.0       ┆ 13.0       ┆ E      │\n",
       "│     ┆ d4-3cb2-904 ┆             ┆             ┆   ┆            ┆           ┆            ┆        │\n",
       "│     ┆ d-c348501a… ┆             ┆             ┆   ┆            ┆           ┆            ┆        │\n",
       "└─────┴─────────────┴─────────────┴─────────────┴───┴────────────┴───────────┴────────────┴────────┘"
      ]
     },
     "execution_count": 11,
     "metadata": {},
     "output_type": "execute_result"
    }
   ],
   "source": [
    "df=pl.read_csv(r\"C:\\Users\\Dell\\Documents\\All_Programs\\Anomalous-Behavior-Analysis-and-Prediction\\data\\remaining_behavior_ext.csv\")\n",
    "df.head(5)"
   ]
  },
  {
   "cell_type": "code",
   "execution_count": null,
   "metadata": {},
   "outputs": [],
   "source": []
  }
 ],
 "metadata": {
  "kernelspec": {
   "display_name": "base",
   "language": "python",
   "name": "python3"
  },
  "language_info": {
   "codemirror_mode": {
    "name": "ipython",
    "version": 3
   },
   "file_extension": ".py",
   "mimetype": "text/x-python",
   "name": "python",
   "nbconvert_exporter": "python",
   "pygments_lexer": "ipython3",
   "version": "3.10.9"
  }
 },
 "nbformat": 4,
 "nbformat_minor": 2
}
