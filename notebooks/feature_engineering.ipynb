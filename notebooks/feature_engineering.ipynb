{
 "cells": [
  {
   "cell_type": "code",
   "execution_count": 5,
   "metadata": {},
   "outputs": [],
   "source": [
    "import os\n",
    "import sys\n",
    "import matplotlib.pyplot as plt\n",
    "import numpy as np\n",
    "import pandas as pd\n",
    "import seaborn as sns\n",
    "\n",
    "import polars as pl\n",
    "\n",
    "\n",
    "path2add = os.path.normpath(os.path.abspath(os.path.join(os.path.dirname('__file__'), os.path.pardir, 'utils')))\n",
    "if (not (path2add in sys.path)) :\n",
    "    sys.path.append(path2add)\n",
    "\n",
    "import feature_engineering\n"
   ]
  },
  {
   "cell_type": "code",
   "execution_count": 15,
   "metadata": {},
   "outputs": [],
   "source": [
    "df = pl.read_csv(\"..\\data\\cleaned_df.csv\")\n",
    "callGraph = pl.read_json('..\\data\\supervised_call_graphs.json')"
   ]
  },
  {
   "cell_type": "code",
   "execution_count": 14,
   "metadata": {},
   "outputs": [
    {
     "data": {
      "text/html": [
       "<div><style>\n",
       ".dataframe > thead > tr,\n",
       ".dataframe > tbody > tr {\n",
       "  text-align: right;\n",
       "  white-space: pre-wrap;\n",
       "}\n",
       "</style>\n",
       "<small>shape: (3, 13)</small><table border=\"1\" class=\"dataframe\"><thead><tr><th></th><th>_id</th><th>inter_api_access_duration(sec)</th><th>api_access_uniqueness</th><th>sequence_length(count)</th><th>vsession_duration(min)</th><th>ip_type</th><th>num_sessions</th><th>num_users</th><th>num_unique_apis</th><th>source</th><th>classification</th><th>target</th></tr><tr><td>i64</td><td>str</td><td>f64</td><td>f64</td><td>f64</td><td>i64</td><td>str</td><td>f64</td><td>f64</td><td>f64</td><td>str</td><td>str</td><td>i64</td></tr></thead><tbody><tr><td>0</td><td>&quot;1f2c32d8-2d6e-…</td><td>0.000812</td><td>0.004066</td><td>85.643243</td><td>5405</td><td>&quot;default&quot;</td><td>1460.0</td><td>1295.0</td><td>451.0</td><td>&quot;E&quot;</td><td>&quot;normal&quot;</td><td>0</td></tr><tr><td>1</td><td>&quot;4c486414-d4f5-…</td><td>0.000063</td><td>0.002211</td><td>16.166805</td><td>519</td><td>&quot;default&quot;</td><td>9299.0</td><td>8447.0</td><td>302.0</td><td>&quot;E&quot;</td><td>&quot;normal&quot;</td><td>0</td></tr><tr><td>2</td><td>&quot;7e5838fc-bce1-…</td><td>0.004481</td><td>0.015324</td><td>99.573276</td><td>6211</td><td>&quot;default&quot;</td><td>255.0</td><td>232.0</td><td>354.0</td><td>&quot;E&quot;</td><td>&quot;normal&quot;</td><td>0</td></tr></tbody></table></div>"
      ],
      "text/plain": [
       "shape: (3, 13)\n",
       "┌─────┬──────────────┬─────────────┬─────────────┬───┬─────────────┬────────┬─────────────┬────────┐\n",
       "│     ┆ _id          ┆ inter_api_a ┆ api_access_ ┆ … ┆ num_unique_ ┆ source ┆ classificat ┆ target │\n",
       "│ --- ┆ ---          ┆ ccess_durat ┆ uniqueness  ┆   ┆ apis        ┆ ---    ┆ ion         ┆ ---    │\n",
       "│ i64 ┆ str          ┆ ion(sec)    ┆ ---         ┆   ┆ ---         ┆ str    ┆ ---         ┆ i64    │\n",
       "│     ┆              ┆ ---         ┆ f64         ┆   ┆ f64         ┆        ┆ str         ┆        │\n",
       "│     ┆              ┆ f64         ┆             ┆   ┆             ┆        ┆             ┆        │\n",
       "╞═════╪══════════════╪═════════════╪═════════════╪═══╪═════════════╪════════╪═════════════╪════════╡\n",
       "│ 0   ┆ 1f2c32d8-2d6 ┆ 0.000812    ┆ 0.004066    ┆ … ┆ 451.0       ┆ E      ┆ normal      ┆ 0      │\n",
       "│     ┆ e-3b68-bc46- ┆             ┆             ┆   ┆             ┆        ┆             ┆        │\n",
       "│     ┆ 789469f2…    ┆             ┆             ┆   ┆             ┆        ┆             ┆        │\n",
       "│ 1   ┆ 4c486414-d4f ┆ 0.000063    ┆ 0.002211    ┆ … ┆ 302.0       ┆ E      ┆ normal      ┆ 0      │\n",
       "│     ┆ 5-33f6-b485- ┆             ┆             ┆   ┆             ┆        ┆             ┆        │\n",
       "│     ┆ 24a8ed29…    ┆             ┆             ┆   ┆             ┆        ┆             ┆        │\n",
       "│ 2   ┆ 7e5838fc-bce ┆ 0.004481    ┆ 0.015324    ┆ … ┆ 354.0       ┆ E      ┆ normal      ┆ 0      │\n",
       "│     ┆ 1-371f-a3ac- ┆             ┆             ┆   ┆             ┆        ┆             ┆        │\n",
       "│     ┆ d8a0b2a0…    ┆             ┆             ┆   ┆             ┆        ┆             ┆        │\n",
       "└─────┴──────────────┴─────────────┴─────────────┴───┴─────────────┴────────┴─────────────┴────────┘"
      ]
     },
     "execution_count": 14,
     "metadata": {},
     "output_type": "execute_result"
    }
   ],
   "source": [
    "df.head(3)"
   ]
  },
  {
   "cell_type": "code",
   "execution_count": 16,
   "metadata": {},
   "outputs": [
    {
     "data": {
      "text/html": [
       "<div><style>\n",
       ".dataframe > thead > tr,\n",
       ".dataframe > tbody > tr {\n",
       "  text-align: right;\n",
       "  white-space: pre-wrap;\n",
       "}\n",
       "</style>\n",
       "<small>shape: (3, 2)</small><table border=\"1\" class=\"dataframe\"><thead><tr><th>_id</th><th>call_graph</th></tr><tr><td>str</td><td>list[struct[2]]</td></tr></thead><tbody><tr><td>&quot;1f2c32d8-2d6e-…</td><td>[{&quot;1f873432-6944-3df9-8300-8a3cf9f95b35&quot;,&quot;5862055b-35a6-316a-8e20-3ae20c1763c2&quot;}, {&quot;8955faa9-0e33-37ad-a1dc-f0e640a114c2&quot;,&quot;a4fd6415-1fd4-303e-aa33-bb1830b5d9d4&quot;}, … {&quot;016099ea-6f20-3fec-94cf-f7afa239f398&quot;,&quot;6fa8ad53-2f0d-3f44-8863-139092bfeda9&quot;}]</td></tr><tr><td>&quot;4c486414-d4f5-…</td><td>[{&quot;016099ea-6f20-3fec-94cf-f7afa239f398&quot;,&quot;946e3ced-48a5-3de5-ad5a-1d20b1ab7eb5&quot;}, {&quot;a05a261f-128d-3cd8-a8e1-d6e52e161947&quot;,&quot;375c16ea-5f8d-32d5-8893-639d9b3a53d6&quot;}, … {&quot;68acdde8-bd53-39d1-9be0-fd67a281d7be&quot;,&quot;d7a53acc-eb6e-3f6c-b72e-9aefb54dd311&quot;}]</td></tr><tr><td>&quot;7e5838fc-bce1-…</td><td>[{&quot;1f873432-6944-3df9-8300-8a3cf9f95b35&quot;,&quot;5862055b-35a6-316a-8e20-3ae20c1763c2&quot;}, {&quot;857c4b20-3057-30e0-9ca3-d6f5c3dbe4a6&quot;,&quot;857c4b20-3057-30e0-9ca3-d6f5c3dbe4a6&quot;}, … {&quot;016099ea-6f20-3fec-94cf-f7afa239f398&quot;,&quot;6fa8ad53-2f0d-3f44-8863-139092bfeda9&quot;}]</td></tr></tbody></table></div>"
      ],
      "text/plain": [
       "shape: (3, 2)\n",
       "┌───────────────────────────────────┬───────────────────────────────────┐\n",
       "│ _id                               ┆ call_graph                        │\n",
       "│ ---                               ┆ ---                               │\n",
       "│ str                               ┆ list[struct[2]]                   │\n",
       "╞═══════════════════════════════════╪═══════════════════════════════════╡\n",
       "│ 1f2c32d8-2d6e-3b68-bc46-789469f2… ┆ [{\"1f873432-6944-3df9-8300-8a3cf… │\n",
       "│ 4c486414-d4f5-33f6-b485-24a8ed29… ┆ [{\"016099ea-6f20-3fec-94cf-f7afa… │\n",
       "│ 7e5838fc-bce1-371f-a3ac-d8a0b2a0… ┆ [{\"1f873432-6944-3df9-8300-8a3cf… │\n",
       "└───────────────────────────────────┴───────────────────────────────────┘"
      ]
     },
     "execution_count": 16,
     "metadata": {},
     "output_type": "execute_result"
    }
   ],
   "source": [
    "callGraph.head(3)"
   ]
  },
  {
   "cell_type": "markdown",
   "metadata": {},
   "source": [
    "**Observation**\n",
    "* Cleaned data already cotains engineered features\n",
    "\n",
    "**Impact** \n",
    "\n",
    "* Do feature engineering on graph\n"
   ]
  },
  {
   "cell_type": "code",
   "execution_count": 45,
   "metadata": {},
   "outputs": [],
   "source": [
    "callsProcessed = callGraph.with_columns(\n",
    "    pl.col(\"call_graph\").list.eval(\n",
    "        pl.element().struct.rename_fields([\"to\", \"from\"])\n",
    "    )\n",
    ").explode(\"call_graph\").unnest(\"call_graph\")"
   ]
  },
  {
   "cell_type": "code",
   "execution_count": 46,
   "metadata": {},
   "outputs": [
    {
     "data": {
      "text/html": [
       "<div><style>\n",
       ".dataframe > thead > tr,\n",
       ".dataframe > tbody > tr {\n",
       "  text-align: right;\n",
       "  white-space: pre-wrap;\n",
       "}\n",
       "</style>\n",
       "<small>shape: (418_261, 3)</small><table border=\"1\" class=\"dataframe\"><thead><tr><th>_id</th><th>to</th><th>from</th></tr><tr><td>str</td><td>str</td><td>str</td></tr></thead><tbody><tr><td>&quot;1f2c32d8-2d6e-…</td><td>&quot;1f873432-6944-…</td><td>&quot;5862055b-35a6-…</td></tr><tr><td>&quot;1f2c32d8-2d6e-…</td><td>&quot;8955faa9-0e33-…</td><td>&quot;a4fd6415-1fd4-…</td></tr><tr><td>&quot;1f2c32d8-2d6e-…</td><td>&quot;85754db8-6a55-…</td><td>&quot;85754db8-6a55-…</td></tr><tr><td>&quot;1f2c32d8-2d6e-…</td><td>&quot;9f08fee1-953c-…</td><td>&quot;876b4958-7df1-…</td></tr><tr><td>&quot;1f2c32d8-2d6e-…</td><td>&quot;857c4b20-3057-…</td><td>&quot;857c4b20-3057-…</td></tr><tr><td>&hellip;</td><td>&hellip;</td><td>&hellip;</td></tr><tr><td>&quot;468a84b3-2885-…</td><td>&quot;d3fc2678-10cb-…</td><td>&quot;d3fc2678-10cb-…</td></tr><tr><td>&quot;468a84b3-2885-…</td><td>&quot;7f68d54f-87ec-…</td><td>&quot;7f68d54f-87ec-…</td></tr><tr><td>&quot;2854b436-7d8b-…</td><td>&quot;308d23af-c2ca-…</td><td>&quot;2738e795-7c3e-…</td></tr><tr><td>&quot;2854b436-7d8b-…</td><td>&quot;ae00f729-b2ed-…</td><td>&quot;ae00f729-b2ed-…</td></tr><tr><td>&quot;2854b436-7d8b-…</td><td>&quot;2738e795-7c3e-…</td><td>&quot;2738e795-7c3e-…</td></tr></tbody></table></div>"
      ],
      "text/plain": [
       "shape: (418_261, 3)\n",
       "┌────────────────────────────────┬────────────────────────────────┬────────────────────────────────┐\n",
       "│ _id                            ┆ to                             ┆ from                           │\n",
       "│ ---                            ┆ ---                            ┆ ---                            │\n",
       "│ str                            ┆ str                            ┆ str                            │\n",
       "╞════════════════════════════════╪════════════════════════════════╪════════════════════════════════╡\n",
       "│ 1f2c32d8-2d6e-3b68-bc46-789469 ┆ 1f873432-6944-3df9-8300-8a3cf9 ┆ 5862055b-35a6-316a-8e20-3ae20c │\n",
       "│ f2…                            ┆ f9…                            ┆ 17…                            │\n",
       "│ 1f2c32d8-2d6e-3b68-bc46-789469 ┆ 8955faa9-0e33-37ad-a1dc-f0e640 ┆ a4fd6415-1fd4-303e-aa33-bb1830 │\n",
       "│ f2…                            ┆ a1…                            ┆ b5…                            │\n",
       "│ 1f2c32d8-2d6e-3b68-bc46-789469 ┆ 85754db8-6a55-30b7-8558-dec75f ┆ 85754db8-6a55-30b7-8558-dec75f │\n",
       "│ f2…                            ┆ f8…                            ┆ f8…                            │\n",
       "│ 1f2c32d8-2d6e-3b68-bc46-789469 ┆ 9f08fee1-953c-3801-b254-c0256f ┆ 876b4958-7df1-3b2b-9def-1a22f1 │\n",
       "│ f2…                            ┆ 27…                            ┆ d4…                            │\n",
       "│ 1f2c32d8-2d6e-3b68-bc46-789469 ┆ 857c4b20-3057-30e0-9ca3-d6f5c3 ┆ 857c4b20-3057-30e0-9ca3-d6f5c3 │\n",
       "│ f2…                            ┆ db…                            ┆ db…                            │\n",
       "│ …                              ┆ …                              ┆ …                              │\n",
       "│ 468a84b3-2885-30d6-b1a8-6cf2e4 ┆ d3fc2678-10cb-3a0e-9a75-ec8148 ┆ d3fc2678-10cb-3a0e-9a75-ec8148 │\n",
       "│ 45…                            ┆ 36…                            ┆ 36…                            │\n",
       "│ 468a84b3-2885-30d6-b1a8-6cf2e4 ┆ 7f68d54f-87ec-3704-9ed3-7efcf7 ┆ 7f68d54f-87ec-3704-9ed3-7efcf7 │\n",
       "│ 45…                            ┆ 3c…                            ┆ 3c…                            │\n",
       "│ 2854b436-7d8b-3f2c-8139-3340ad ┆ 308d23af-c2ca-34b9-9004-0cb92a ┆ 2738e795-7c3e-3446-9c33-d3f7d6 │\n",
       "│ 2c…                            ┆ 61…                            ┆ 4a…                            │\n",
       "│ 2854b436-7d8b-3f2c-8139-3340ad ┆ ae00f729-b2ed-3535-a633-7b42d9 ┆ ae00f729-b2ed-3535-a633-7b42d9 │\n",
       "│ 2c…                            ┆ 48…                            ┆ 48…                            │\n",
       "│ 2854b436-7d8b-3f2c-8139-3340ad ┆ 2738e795-7c3e-3446-9c33-d3f7d6 ┆ 2738e795-7c3e-3446-9c33-d3f7d6 │\n",
       "│ 2c…                            ┆ 4a…                            ┆ 4a…                            │\n",
       "└────────────────────────────────┴────────────────────────────────┴────────────────────────────────┘"
      ]
     },
     "execution_count": 46,
     "metadata": {},
     "output_type": "execute_result"
    }
   ],
   "source": [
    "callsProcessed"
   ]
  },
  {
   "cell_type": "code",
   "execution_count": null,
   "metadata": {},
   "outputs": [],
   "source": []
  }
 ],
 "metadata": {
  "kernelspec": {
   "display_name": "base",
   "language": "python",
   "name": "python3"
  },
  "language_info": {
   "codemirror_mode": {
    "name": "ipython",
    "version": 3
   },
   "file_extension": ".py",
   "mimetype": "text/x-python",
   "name": "python",
   "nbconvert_exporter": "python",
   "pygments_lexer": "ipython3",
   "version": "3.10.9"
  }
 },
 "nbformat": 4,
 "nbformat_minor": 2
}
