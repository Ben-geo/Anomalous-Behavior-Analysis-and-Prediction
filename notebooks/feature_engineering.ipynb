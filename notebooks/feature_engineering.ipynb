{
 "cells": [
  {
   "cell_type": "code",
   "execution_count": 4,
   "metadata": {},
   "outputs": [],
   "source": [
    "import os\n",
    "import sys\n",
    "import matplotlib.pyplot as plt\n",
    "import numpy as np\n",
    "import pandas as pd\n",
    "import seaborn as sns\n",
    "\n",
    "import polars as pl\n",
    "\n",
    "\n",
    "path2add = os.path.normpath(os.path.abspath(os.path.join(os.path.dirname('__file__'), os.path.pardir, 'utils')))\n",
    "if (not (path2add in sys.path)) :\n",
    "    sys.path.append(path2add)\n",
    "\n",
    "import feature_engineering\n"
   ]
  },
  {
   "cell_type": "code",
   "execution_count": 5,
   "metadata": {},
   "outputs": [],
   "source": [
    "df = pl.read_csv(\"..\\data\\cleaned_df.csv\")\n",
    "callGraph = pl.read_json('..\\data\\supervised_call_graphs.json')"
   ]
  },
  {
   "cell_type": "code",
   "execution_count": 6,
   "metadata": {},
   "outputs": [
    {
     "data": {
      "text/html": [
       "<div><style>\n",
       ".dataframe > thead > tr,\n",
       ".dataframe > tbody > tr {\n",
       "  text-align: right;\n",
       "  white-space: pre-wrap;\n",
       "}\n",
       "</style>\n",
       "<small>shape: (3, 13)</small><table border=\"1\" class=\"dataframe\"><thead><tr><th></th><th>_id</th><th>inter_api_access_duration(sec)</th><th>api_access_uniqueness</th><th>sequence_length(count)</th><th>vsession_duration(min)</th><th>ip_type</th><th>num_sessions</th><th>num_users</th><th>num_unique_apis</th><th>source</th><th>classification</th><th>target</th></tr><tr><td>i64</td><td>str</td><td>f64</td><td>f64</td><td>f64</td><td>i64</td><td>str</td><td>f64</td><td>f64</td><td>f64</td><td>str</td><td>str</td><td>i64</td></tr></thead><tbody><tr><td>0</td><td>&quot;1f2c32d8-2d6e-…</td><td>0.000812</td><td>0.004066</td><td>85.643243</td><td>5405</td><td>&quot;default&quot;</td><td>1460.0</td><td>1295.0</td><td>451.0</td><td>&quot;E&quot;</td><td>&quot;normal&quot;</td><td>0</td></tr><tr><td>1</td><td>&quot;4c486414-d4f5-…</td><td>0.000063</td><td>0.002211</td><td>16.166805</td><td>519</td><td>&quot;default&quot;</td><td>9299.0</td><td>8447.0</td><td>302.0</td><td>&quot;E&quot;</td><td>&quot;normal&quot;</td><td>0</td></tr><tr><td>2</td><td>&quot;7e5838fc-bce1-…</td><td>0.004481</td><td>0.015324</td><td>99.573276</td><td>6211</td><td>&quot;default&quot;</td><td>255.0</td><td>232.0</td><td>354.0</td><td>&quot;E&quot;</td><td>&quot;normal&quot;</td><td>0</td></tr></tbody></table></div>"
      ],
      "text/plain": [
       "shape: (3, 13)\n",
       "┌─────┬──────────────┬─────────────┬─────────────┬───┬─────────────┬────────┬─────────────┬────────┐\n",
       "│     ┆ _id          ┆ inter_api_a ┆ api_access_ ┆ … ┆ num_unique_ ┆ source ┆ classificat ┆ target │\n",
       "│ --- ┆ ---          ┆ ccess_durat ┆ uniqueness  ┆   ┆ apis        ┆ ---    ┆ ion         ┆ ---    │\n",
       "│ i64 ┆ str          ┆ ion(sec)    ┆ ---         ┆   ┆ ---         ┆ str    ┆ ---         ┆ i64    │\n",
       "│     ┆              ┆ ---         ┆ f64         ┆   ┆ f64         ┆        ┆ str         ┆        │\n",
       "│     ┆              ┆ f64         ┆             ┆   ┆             ┆        ┆             ┆        │\n",
       "╞═════╪══════════════╪═════════════╪═════════════╪═══╪═════════════╪════════╪═════════════╪════════╡\n",
       "│ 0   ┆ 1f2c32d8-2d6 ┆ 0.000812    ┆ 0.004066    ┆ … ┆ 451.0       ┆ E      ┆ normal      ┆ 0      │\n",
       "│     ┆ e-3b68-bc46- ┆             ┆             ┆   ┆             ┆        ┆             ┆        │\n",
       "│     ┆ 789469f2…    ┆             ┆             ┆   ┆             ┆        ┆             ┆        │\n",
       "│ 1   ┆ 4c486414-d4f ┆ 0.000063    ┆ 0.002211    ┆ … ┆ 302.0       ┆ E      ┆ normal      ┆ 0      │\n",
       "│     ┆ 5-33f6-b485- ┆             ┆             ┆   ┆             ┆        ┆             ┆        │\n",
       "│     ┆ 24a8ed29…    ┆             ┆             ┆   ┆             ┆        ┆             ┆        │\n",
       "│ 2   ┆ 7e5838fc-bce ┆ 0.004481    ┆ 0.015324    ┆ … ┆ 354.0       ┆ E      ┆ normal      ┆ 0      │\n",
       "│     ┆ 1-371f-a3ac- ┆             ┆             ┆   ┆             ┆        ┆             ┆        │\n",
       "│     ┆ d8a0b2a0…    ┆             ┆             ┆   ┆             ┆        ┆             ┆        │\n",
       "└─────┴──────────────┴─────────────┴─────────────┴───┴─────────────┴────────┴─────────────┴────────┘"
      ]
     },
     "execution_count": 6,
     "metadata": {},
     "output_type": "execute_result"
    }
   ],
   "source": [
    "df.head(3)"
   ]
  },
  {
   "cell_type": "code",
   "execution_count": 7,
   "metadata": {},
   "outputs": [
    {
     "data": {
      "text/html": [
       "<div><style>\n",
       ".dataframe > thead > tr,\n",
       ".dataframe > tbody > tr {\n",
       "  text-align: right;\n",
       "  white-space: pre-wrap;\n",
       "}\n",
       "</style>\n",
       "<small>shape: (3, 2)</small><table border=\"1\" class=\"dataframe\"><thead><tr><th>_id</th><th>call_graph</th></tr><tr><td>str</td><td>list[struct[2]]</td></tr></thead><tbody><tr><td>&quot;1f2c32d8-2d6e-…</td><td>[{&quot;1f873432-6944-3df9-8300-8a3cf9f95b35&quot;,&quot;5862055b-35a6-316a-8e20-3ae20c1763c2&quot;}, {&quot;8955faa9-0e33-37ad-a1dc-f0e640a114c2&quot;,&quot;a4fd6415-1fd4-303e-aa33-bb1830b5d9d4&quot;}, … {&quot;016099ea-6f20-3fec-94cf-f7afa239f398&quot;,&quot;6fa8ad53-2f0d-3f44-8863-139092bfeda9&quot;}]</td></tr><tr><td>&quot;4c486414-d4f5-…</td><td>[{&quot;016099ea-6f20-3fec-94cf-f7afa239f398&quot;,&quot;946e3ced-48a5-3de5-ad5a-1d20b1ab7eb5&quot;}, {&quot;a05a261f-128d-3cd8-a8e1-d6e52e161947&quot;,&quot;375c16ea-5f8d-32d5-8893-639d9b3a53d6&quot;}, … {&quot;68acdde8-bd53-39d1-9be0-fd67a281d7be&quot;,&quot;d7a53acc-eb6e-3f6c-b72e-9aefb54dd311&quot;}]</td></tr><tr><td>&quot;7e5838fc-bce1-…</td><td>[{&quot;1f873432-6944-3df9-8300-8a3cf9f95b35&quot;,&quot;5862055b-35a6-316a-8e20-3ae20c1763c2&quot;}, {&quot;857c4b20-3057-30e0-9ca3-d6f5c3dbe4a6&quot;,&quot;857c4b20-3057-30e0-9ca3-d6f5c3dbe4a6&quot;}, … {&quot;016099ea-6f20-3fec-94cf-f7afa239f398&quot;,&quot;6fa8ad53-2f0d-3f44-8863-139092bfeda9&quot;}]</td></tr></tbody></table></div>"
      ],
      "text/plain": [
       "shape: (3, 2)\n",
       "┌───────────────────────────────────┬───────────────────────────────────┐\n",
       "│ _id                               ┆ call_graph                        │\n",
       "│ ---                               ┆ ---                               │\n",
       "│ str                               ┆ list[struct[2]]                   │\n",
       "╞═══════════════════════════════════╪═══════════════════════════════════╡\n",
       "│ 1f2c32d8-2d6e-3b68-bc46-789469f2… ┆ [{\"1f873432-6944-3df9-8300-8a3cf… │\n",
       "│ 4c486414-d4f5-33f6-b485-24a8ed29… ┆ [{\"016099ea-6f20-3fec-94cf-f7afa… │\n",
       "│ 7e5838fc-bce1-371f-a3ac-d8a0b2a0… ┆ [{\"1f873432-6944-3df9-8300-8a3cf… │\n",
       "└───────────────────────────────────┴───────────────────────────────────┘"
      ]
     },
     "execution_count": 7,
     "metadata": {},
     "output_type": "execute_result"
    }
   ],
   "source": [
    "callGraph.head(3)"
   ]
  },
  {
   "cell_type": "markdown",
   "metadata": {},
   "source": [
    "**Observation**\n",
    "* Cleaned data already cotains engineered features\n",
    "\n",
    "**Impact** \n",
    "\n",
    "* Do feature engineering on graph\n"
   ]
  },
  {
   "cell_type": "code",
   "execution_count": 10,
   "metadata": {},
   "outputs": [
    {
     "data": {
      "text/html": [
       "<div><style>\n",
       ".dataframe > thead > tr,\n",
       ".dataframe > tbody > tr {\n",
       "  text-align: right;\n",
       "  white-space: pre-wrap;\n",
       "}\n",
       "</style>\n",
       "<small>shape: (3, 3)</small><table border=\"1\" class=\"dataframe\"><thead><tr><th>_id</th><th>to</th><th>from</th></tr><tr><td>str</td><td>str</td><td>str</td></tr></thead><tbody><tr><td>&quot;1f2c32d8-2d6e-…</td><td>&quot;1f873432-6944-…</td><td>&quot;5862055b-35a6-…</td></tr><tr><td>&quot;1f2c32d8-2d6e-…</td><td>&quot;8955faa9-0e33-…</td><td>&quot;a4fd6415-1fd4-…</td></tr><tr><td>&quot;1f2c32d8-2d6e-…</td><td>&quot;85754db8-6a55-…</td><td>&quot;85754db8-6a55-…</td></tr></tbody></table></div>"
      ],
      "text/plain": [
       "shape: (3, 3)\n",
       "┌────────────────────────────────┬────────────────────────────────┬────────────────────────────────┐\n",
       "│ _id                            ┆ to                             ┆ from                           │\n",
       "│ ---                            ┆ ---                            ┆ ---                            │\n",
       "│ str                            ┆ str                            ┆ str                            │\n",
       "╞════════════════════════════════╪════════════════════════════════╪════════════════════════════════╡\n",
       "│ 1f2c32d8-2d6e-3b68-bc46-789469 ┆ 1f873432-6944-3df9-8300-8a3cf9 ┆ 5862055b-35a6-316a-8e20-3ae20c │\n",
       "│ f2…                            ┆ f9…                            ┆ 17…                            │\n",
       "│ 1f2c32d8-2d6e-3b68-bc46-789469 ┆ 8955faa9-0e33-37ad-a1dc-f0e640 ┆ a4fd6415-1fd4-303e-aa33-bb1830 │\n",
       "│ f2…                            ┆ a1…                            ┆ b5…                            │\n",
       "│ 1f2c32d8-2d6e-3b68-bc46-789469 ┆ 85754db8-6a55-30b7-8558-dec75f ┆ 85754db8-6a55-30b7-8558-dec75f │\n",
       "│ f2…                            ┆ f8…                            ┆ f8…                            │\n",
       "└────────────────────────────────┴────────────────────────────────┴────────────────────────────────┘"
      ]
     },
     "execution_count": 10,
     "metadata": {},
     "output_type": "execute_result"
    }
   ],
   "source": [
    "callsProcessed = callGraph.with_columns(\n",
    "    pl.col(\"call_graph\").list.eval(\n",
    "        pl.element().struct.rename_fields([\"to\", \"from\"])\n",
    "    )\n",
    ").explode(\"call_graph\").unnest(\"call_graph\")\n",
    "callsProcessed.head(3)"
   ]
  },
  {
   "cell_type": "code",
   "execution_count": null,
   "metadata": {},
   "outputs": [],
   "source": []
  },
  {
   "cell_type": "code",
   "execution_count": 11,
   "metadata": {},
   "outputs": [
    {
     "data": {
      "text/html": [
       "<div><style>\n",
       ".dataframe > thead > tr,\n",
       ".dataframe > tbody > tr {\n",
       "  text-align: right;\n",
       "  white-space: pre-wrap;\n",
       "}\n",
       "</style>\n",
       "<small>shape: (3, 3)</small><table border=\"1\" class=\"dataframe\"><thead><tr><th>_id</th><th>n_connections</th><th>n_unique_nodes</th></tr><tr><td>str</td><td>u32</td><td>u32</td></tr></thead><tbody><tr><td>&quot;5aaf3330-b43b-…</td><td>5</td><td>4</td></tr><tr><td>&quot;25bde681-ee9f-…</td><td>65</td><td>19</td></tr><tr><td>&quot;e0389ccc-5c5b-…</td><td>86</td><td>43</td></tr></tbody></table></div>"
      ],
      "text/plain": [
       "shape: (3, 3)\n",
       "┌───────────────────────────────────┬───────────────┬────────────────┐\n",
       "│ _id                               ┆ n_connections ┆ n_unique_nodes │\n",
       "│ ---                               ┆ ---           ┆ ---            │\n",
       "│ str                               ┆ u32           ┆ u32            │\n",
       "╞═══════════════════════════════════╪═══════════════╪════════════════╡\n",
       "│ 5aaf3330-b43b-36e6-9c94-7570a306… ┆ 5             ┆ 4              │\n",
       "│ 25bde681-ee9f-3bea-a4b2-7a5745c1… ┆ 65            ┆ 19             │\n",
       "│ e0389ccc-5c5b-3a87-ab42-6c75272a… ┆ 86            ┆ 43             │\n",
       "└───────────────────────────────────┴───────────────┴────────────────┘"
      ]
     },
     "execution_count": 11,
     "metadata": {},
     "output_type": "execute_result"
    }
   ],
   "source": [
    "graph_features = callsProcessed.group_by('_id').agg(\n",
    "    pl.len().alias('n_connections'),\n",
    "    pl.col('from'),\n",
    "    pl.col('to')\n",
    ").with_columns(\n",
    "    pl.concat_list('from', 'to').list.unique().list.len().alias('n_unique_nodes')\n",
    ").select([\n",
    "    '_id',\n",
    "    'n_connections',\n",
    "    'n_unique_nodes'\n",
    "])\n",
    "\n",
    "graph_features.sample(3)"
   ]
  },
  {
   "cell_type": "code",
   "execution_count": 12,
   "metadata": {},
   "outputs": [
    {
     "data": {
      "text/html": [
       "<div><style>\n",
       ".dataframe > thead > tr,\n",
       ".dataframe > tbody > tr {\n",
       "  text-align: right;\n",
       "  white-space: pre-wrap;\n",
       "}\n",
       "</style>\n",
       "<small>shape: (3, 7)</small><table border=\"1\" class=\"dataframe\"><thead><tr><th>_id</th><th>to</th><th>from</th><th>global_source_degrees</th><th>global_dest_degrees</th><th>local_source_degrees</th><th>local_dest_degrees</th></tr><tr><td>str</td><td>str</td><td>str</td><td>u32</td><td>u32</td><td>u32</td><td>u32</td></tr></thead><tbody><tr><td>&quot;f8b3a76e-2948-…</td><td>&quot;5474e313-c27c-…</td><td>&quot;0a43a0ed-b47c-…</td><td>1928</td><td>4427</td><td>14</td><td>23</td></tr><tr><td>&quot;e48677db-4c69-…</td><td>&quot;a449d369-17b1-…</td><td>&quot;a8aa433a-a4a0-…</td><td>6001</td><td>10404</td><td>15</td><td>11</td></tr><tr><td>&quot;02f1356d-6319-…</td><td>&quot;12676080-7a4e-…</td><td>&quot;a449d369-17b1-…</td><td>22013</td><td>2702</td><td>55</td><td>5</td></tr></tbody></table></div>"
      ],
      "text/plain": [
       "shape: (3, 7)\n",
       "┌──────────────┬─────────────┬─────────────┬─────────────┬─────────────┬─────────────┬─────────────┐\n",
       "│ _id          ┆ to          ┆ from        ┆ global_sour ┆ global_dest ┆ local_sourc ┆ local_dest_ │\n",
       "│ ---          ┆ ---         ┆ ---         ┆ ce_degrees  ┆ _degrees    ┆ e_degrees   ┆ degrees     │\n",
       "│ str          ┆ str         ┆ str         ┆ ---         ┆ ---         ┆ ---         ┆ ---         │\n",
       "│              ┆             ┆             ┆ u32         ┆ u32         ┆ u32         ┆ u32         │\n",
       "╞══════════════╪═════════════╪═════════════╪═════════════╪═════════════╪═════════════╪═════════════╡\n",
       "│ f8b3a76e-294 ┆ 5474e313-c2 ┆ 0a43a0ed-b4 ┆ 1928        ┆ 4427        ┆ 14          ┆ 23          │\n",
       "│ 8-3252-b85e- ┆ 7c-3bae-a5e ┆ 7c-3fdd-869 ┆             ┆             ┆             ┆             │\n",
       "│ fa99951b…    ┆ 4-20530334… ┆ 6-51557190… ┆             ┆             ┆             ┆             │\n",
       "│ e48677db-4c6 ┆ a449d369-17 ┆ a8aa433a-a4 ┆ 6001        ┆ 10404       ┆ 15          ┆ 11          │\n",
       "│ 9-3a5d-ae1e- ┆ b1-3412-9a5 ┆ a0-31b2-824 ┆             ┆             ┆             ┆             │\n",
       "│ 6e82d8af…    ┆ b-6eb3dbeb… ┆ f-e4f67a87… ┆             ┆             ┆             ┆             │\n",
       "│ 02f1356d-631 ┆ 12676080-7a ┆ a449d369-17 ┆ 22013       ┆ 2702        ┆ 55          ┆ 5           │\n",
       "│ 9-3be9-a183- ┆ 4e-3fcc-bb1 ┆ b1-3412-9a5 ┆             ┆             ┆             ┆             │\n",
       "│ 27f1dff7…    ┆ d-bb8b47c3… ┆ b-6eb3dbeb… ┆             ┆             ┆             ┆             │\n",
       "└──────────────┴─────────────┴─────────────┴─────────────┴─────────────┴─────────────┴─────────────┘"
      ]
     },
     "execution_count": 12,
     "metadata": {},
     "output_type": "execute_result"
    }
   ],
   "source": [
    "calls_processed = callsProcessed.with_columns(\n",
    "    global_source_degrees = pl.len().over(pl.col('from')),\n",
    "    global_dest_degrees = pl.len().over(pl.col('to')),\n",
    "    local_source_degrees = pl.len().over(pl.col('from'), pl.col('_id')),\n",
    "    local_dest_degrees = pl.len().over(pl.col('to'), pl.col('_id'))\n",
    ")\n",
    "\n",
    "calls_processed.sample(3)"
   ]
  },
  {
   "cell_type": "code",
   "execution_count": 16,
   "metadata": {},
   "outputs": [
    {
     "ename": "DuplicateError",
     "evalue": "unable to hstack, column with name \"avg_global_source_degrees_right\" already exists",
     "output_type": "error",
     "traceback": [
      "\u001b[1;31m---------------------------------------------------------------------------\u001b[0m",
      "\u001b[1;31mDuplicateError\u001b[0m                            Traceback (most recent call last)",
      "Cell \u001b[1;32mIn[16], line 12\u001b[0m\n\u001b[0;32m      1\u001b[0m node_features_agg \u001b[38;5;241m=\u001b[39m feature_engineering\u001b[38;5;241m.\u001b[39maggregate_node_features(\n\u001b[0;32m      2\u001b[0m     calls_processed,\n\u001b[0;32m      3\u001b[0m     node_features\u001b[38;5;241m=\u001b[39m[\n\u001b[1;32m   (...)\u001b[0m\n\u001b[0;32m      9\u001b[0m     by\u001b[38;5;241m=\u001b[39m\u001b[38;5;124m\"\u001b[39m\u001b[38;5;124m_id\u001b[39m\u001b[38;5;124m\"\u001b[39m,\n\u001b[0;32m     10\u001b[0m )\n\u001b[1;32m---> 12\u001b[0m graph_features \u001b[38;5;241m=\u001b[39m \u001b[43mgraph_features\u001b[49m\u001b[38;5;241;43m.\u001b[39;49m\u001b[43mjoin\u001b[49m\u001b[43m(\u001b[49m\u001b[43mnode_features_agg\u001b[49m\u001b[43m,\u001b[49m\u001b[43m \u001b[49m\u001b[43mon\u001b[49m\u001b[38;5;241;43m=\u001b[39;49m\u001b[38;5;124;43m\"\u001b[39;49m\u001b[38;5;124;43m_id\u001b[39;49m\u001b[38;5;124;43m\"\u001b[39;49m\u001b[43m)\u001b[49m\n\u001b[0;32m     13\u001b[0m graph_features\n",
      "File \u001b[1;32mc:\\Users\\Dell\\anaconda3\\lib\\site-packages\\polars\\dataframe\\frame.py:5968\u001b[0m, in \u001b[0;36mDataFrame.join\u001b[1;34m(self, other, on, how, left_on, right_on, suffix, validate, join_nulls)\u001b[0m\n\u001b[0;32m   5964\u001b[0m     msg \u001b[38;5;241m=\u001b[39m \u001b[38;5;124mf\u001b[39m\u001b[38;5;124m\"\u001b[39m\u001b[38;5;124mexpected `other` join table to be a DataFrame, got \u001b[39m\u001b[38;5;132;01m{\u001b[39;00m\u001b[38;5;28mtype\u001b[39m(other)\u001b[38;5;241m.\u001b[39m\u001b[38;5;18m__name__\u001b[39m\u001b[38;5;132;01m!r}\u001b[39;00m\u001b[38;5;124m\"\u001b[39m\n\u001b[0;32m   5965\u001b[0m     \u001b[38;5;28;01mraise\u001b[39;00m \u001b[38;5;167;01mTypeError\u001b[39;00m(msg)\n\u001b[0;32m   5967\u001b[0m \u001b[38;5;28;01mreturn\u001b[39;00m (\n\u001b[1;32m-> 5968\u001b[0m     \u001b[38;5;28;43mself\u001b[39;49m\u001b[38;5;241;43m.\u001b[39;49m\u001b[43mlazy\u001b[49m\u001b[43m(\u001b[49m\u001b[43m)\u001b[49m\n\u001b[0;32m   5969\u001b[0m \u001b[43m    \u001b[49m\u001b[38;5;241;43m.\u001b[39;49m\u001b[43mjoin\u001b[49m\u001b[43m(\u001b[49m\n\u001b[0;32m   5970\u001b[0m \u001b[43m        \u001b[49m\u001b[43mother\u001b[49m\u001b[38;5;241;43m=\u001b[39;49m\u001b[43mother\u001b[49m\u001b[38;5;241;43m.\u001b[39;49m\u001b[43mlazy\u001b[49m\u001b[43m(\u001b[49m\u001b[43m)\u001b[49m\u001b[43m,\u001b[49m\n\u001b[0;32m   5971\u001b[0m \u001b[43m        \u001b[49m\u001b[43mleft_on\u001b[49m\u001b[38;5;241;43m=\u001b[39;49m\u001b[43mleft_on\u001b[49m\u001b[43m,\u001b[49m\n\u001b[0;32m   5972\u001b[0m \u001b[43m        \u001b[49m\u001b[43mright_on\u001b[49m\u001b[38;5;241;43m=\u001b[39;49m\u001b[43mright_on\u001b[49m\u001b[43m,\u001b[49m\n\u001b[0;32m   5973\u001b[0m \u001b[43m        \u001b[49m\u001b[43mon\u001b[49m\u001b[38;5;241;43m=\u001b[39;49m\u001b[43mon\u001b[49m\u001b[43m,\u001b[49m\n\u001b[0;32m   5974\u001b[0m \u001b[43m        \u001b[49m\u001b[43mhow\u001b[49m\u001b[38;5;241;43m=\u001b[39;49m\u001b[43mhow\u001b[49m\u001b[43m,\u001b[49m\n\u001b[0;32m   5975\u001b[0m \u001b[43m        \u001b[49m\u001b[43msuffix\u001b[49m\u001b[38;5;241;43m=\u001b[39;49m\u001b[43msuffix\u001b[49m\u001b[43m,\u001b[49m\n\u001b[0;32m   5976\u001b[0m \u001b[43m        \u001b[49m\u001b[43mvalidate\u001b[49m\u001b[38;5;241;43m=\u001b[39;49m\u001b[43mvalidate\u001b[49m\u001b[43m,\u001b[49m\n\u001b[0;32m   5977\u001b[0m \u001b[43m        \u001b[49m\u001b[43mjoin_nulls\u001b[49m\u001b[38;5;241;43m=\u001b[39;49m\u001b[43mjoin_nulls\u001b[49m\u001b[43m,\u001b[49m\n\u001b[0;32m   5978\u001b[0m \u001b[43m    \u001b[49m\u001b[43m)\u001b[49m\n\u001b[0;32m   5979\u001b[0m \u001b[43m    \u001b[49m\u001b[38;5;241;43m.\u001b[39;49m\u001b[43mcollect\u001b[49m\u001b[43m(\u001b[49m\u001b[43m_eager\u001b[49m\u001b[38;5;241;43m=\u001b[39;49m\u001b[38;5;28;43;01mTrue\u001b[39;49;00m\u001b[43m)\u001b[49m\n\u001b[0;32m   5980\u001b[0m )\n",
      "File \u001b[1;32mc:\\Users\\Dell\\anaconda3\\lib\\site-packages\\polars\\lazyframe\\frame.py:1708\u001b[0m, in \u001b[0;36mLazyFrame.collect\u001b[1;34m(self, type_coercion, predicate_pushdown, projection_pushdown, simplify_expression, slice_pushdown, comm_subplan_elim, comm_subexpr_elim, no_optimization, streaming, background, _eager)\u001b[0m\n\u001b[0;32m   1705\u001b[0m \u001b[38;5;28;01mif\u001b[39;00m background:\n\u001b[0;32m   1706\u001b[0m     \u001b[38;5;28;01mreturn\u001b[39;00m InProcessQuery(ldf\u001b[38;5;241m.\u001b[39mcollect_concurrently())\n\u001b[1;32m-> 1708\u001b[0m \u001b[38;5;28;01mreturn\u001b[39;00m wrap_df(\u001b[43mldf\u001b[49m\u001b[38;5;241;43m.\u001b[39;49m\u001b[43mcollect\u001b[49m\u001b[43m(\u001b[49m\u001b[43m)\u001b[49m)\n",
      "\u001b[1;31mDuplicateError\u001b[0m: unable to hstack, column with name \"avg_global_source_degrees_right\" already exists"
     ]
    }
   ],
   "source": [
    "node_features_agg = feature_engineering.aggregate_node_features(\n",
    "    calls_processed,\n",
    "    node_features=[\n",
    "        \"global_source_degrees\",\n",
    "        \"global_dest_degrees\",\n",
    "        \"local_source_degrees\",\n",
    "        \"local_dest_degrees\",\n",
    "    ],\n",
    "    by=\"_id\",\n",
    ")\n",
    "\n",
    "graph_features = graph_features.join(node_features_agg, on=\"_id\")\n",
    "graph_features.head(5)"
   ]
  },
  {
   "cell_type": "code",
   "execution_count": null,
   "metadata": {},
   "outputs": [],
   "source": []
  }
 ],
 "metadata": {
  "kernelspec": {
   "display_name": "base",
   "language": "python",
   "name": "python3"
  },
  "language_info": {
   "codemirror_mode": {
    "name": "ipython",
    "version": 3
   },
   "file_extension": ".py",
   "mimetype": "text/x-python",
   "name": "python",
   "nbconvert_exporter": "python",
   "pygments_lexer": "ipython3",
   "version": "3.10.9"
  }
 },
 "nbformat": 4,
 "nbformat_minor": 2
}
